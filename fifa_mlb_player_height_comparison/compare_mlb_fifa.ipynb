{
 "cells": [
  {
   "cell_type": "markdown",
   "metadata": {},
   "source": [
    "# Quick comparison of heights between fifa and mlb players"
   ]
  },
  {
   "cell_type": "markdown",
   "metadata": {},
   "source": [
    "In this analysis, we take two datasets containing observations about MLB and FIFA player. The goal of this analysis is to compare heights statistcs across the two leages and ansewr two questions:\n",
    "\n",
    "1. which league has the **highest average**?\n",
    "2. which league has the **greatest height difference across players**?"
   ]
  },
  {
   "cell_type": "code",
   "execution_count": 1,
   "metadata": {},
   "outputs": [],
   "source": [
    "import pandas as pd"
   ]
  },
  {
   "cell_type": "markdown",
   "metadata": {},
   "source": [
    "## 1. Importing data and initial exploration"
   ]
  },
  {
   "cell_type": "code",
   "execution_count": 2,
   "metadata": {},
   "outputs": [],
   "source": [
    "baseball = pd.read_csv(\"baseball.csv\")\n",
    "fifa = pd.read_csv('fifa.csv')"
   ]
  },
  {
   "cell_type": "code",
   "execution_count": 3,
   "metadata": {},
   "outputs": [
    {
     "name": "stdout",
     "output_type": "stream",
     "text": [
      "<class 'pandas.core.frame.DataFrame'>\n",
      "RangeIndex: 1015 entries, 0 to 1014\n",
      "Data columns (total 7 columns):\n",
      " #   Column       Non-Null Count  Dtype  \n",
      "---  ------       --------------  -----  \n",
      " 0   Name         1015 non-null   object \n",
      " 1   Team         1015 non-null   object \n",
      " 2   Position     1015 non-null   object \n",
      " 3   Height       1015 non-null   int64  \n",
      " 4   Weight       1015 non-null   int64  \n",
      " 5   Age          1015 non-null   float64\n",
      " 6   PosCategory  1015 non-null   object \n",
      "dtypes: float64(1), int64(2), object(4)\n",
      "memory usage: 55.6+ KB\n"
     ]
    }
   ],
   "source": [
    "baseball.info()"
   ]
  },
  {
   "cell_type": "code",
   "execution_count": 4,
   "metadata": {},
   "outputs": [
    {
     "name": "stdout",
     "output_type": "stream",
     "text": [
      "<class 'pandas.core.frame.DataFrame'>\n",
      "RangeIndex: 8847 entries, 0 to 8846\n",
      "Data columns (total 19 columns):\n",
      " #   Column        Non-Null Count  Dtype  \n",
      "---  ------        --------------  -----  \n",
      " 0   id            8847 non-null   int64  \n",
      " 1    name         8847 non-null   object \n",
      " 2    rating       8847 non-null   int64  \n",
      " 3    position     8847 non-null   object \n",
      " 4    height       8847 non-null   int64  \n",
      " 5    foot         8847 non-null   object \n",
      " 6    rare         8847 non-null   int64  \n",
      " 7    pace         8847 non-null   object \n",
      " 8    shooting     8847 non-null   object \n",
      " 9    passing      8847 non-null   object \n",
      " 10   dribbling    8847 non-null   object \n",
      " 11   defending    8847 non-null   object \n",
      " 12   heading      8847 non-null   object \n",
      " 13   diving       8847 non-null   object \n",
      " 14   handling     8847 non-null   object \n",
      " 15   kicking      8847 non-null   object \n",
      " 16   reflexes     8847 non-null   object \n",
      " 17   speed        8847 non-null   object \n",
      " 18   positioning  930 non-null    float64\n",
      "dtypes: float64(1), int64(4), object(14)\n",
      "memory usage: 1.3+ MB\n"
     ]
    }
   ],
   "source": [
    "fifa.info()"
   ]
  },
  {
   "cell_type": "markdown",
   "metadata": {},
   "source": [
    "### 1.1. Cleaning fifa's column labels\n",
    "\n",
    "Looking at the fifa dataset there seems to be a space before the column name gain from index 1 to index 18. This has to be cleaned up."
   ]
  },
  {
   "cell_type": "code",
   "execution_count": 5,
   "metadata": {},
   "outputs": [
    {
     "data": {
      "text/plain": [
       "['id',\n",
       " ' name',\n",
       " ' rating',\n",
       " ' position',\n",
       " ' height',\n",
       " ' foot',\n",
       " ' rare',\n",
       " ' pace',\n",
       " ' shooting',\n",
       " ' passing',\n",
       " ' dribbling',\n",
       " ' defending',\n",
       " ' heading',\n",
       " ' diving',\n",
       " ' handling',\n",
       " ' kicking',\n",
       " ' reflexes',\n",
       " ' speed',\n",
       " ' positioning']"
      ]
     },
     "execution_count": 5,
     "metadata": {},
     "output_type": "execute_result"
    }
   ],
   "source": [
    "fifa_columns = list(fifa.columns)\n",
    "fifa_columns"
   ]
  },
  {
   "cell_type": "code",
   "execution_count": 6,
   "metadata": {},
   "outputs": [
    {
     "data": {
      "text/plain": [
       "['id',\n",
       " 'name',\n",
       " 'rating',\n",
       " 'position',\n",
       " 'height',\n",
       " 'foot',\n",
       " 'rare',\n",
       " 'pace',\n",
       " 'shooting',\n",
       " 'passing',\n",
       " 'dribbling',\n",
       " 'defending',\n",
       " 'heading',\n",
       " 'diving',\n",
       " 'handling',\n",
       " 'kicking',\n",
       " 'reflexes',\n",
       " 'speed',\n",
       " 'positioning']"
      ]
     },
     "execution_count": 6,
     "metadata": {},
     "output_type": "execute_result"
    }
   ],
   "source": [
    "fifa_columns = [label.strip() for label in fifa_columns]\n",
    "fifa_columns"
   ]
  },
  {
   "cell_type": "markdown",
   "metadata": {},
   "source": [
    "Now that the column labels have been cleaned they can be assigned to the dataset."
   ]
  },
  {
   "cell_type": "code",
   "execution_count": 7,
   "metadata": {},
   "outputs": [],
   "source": [
    "fifa.columns = fifa_columns"
   ]
  },
  {
   "cell_type": "markdown",
   "metadata": {},
   "source": [
    "## 2. Exploring the datasets\n",
    "\n",
    "### 2.1. MLB data"
   ]
  },
  {
   "cell_type": "code",
   "execution_count": 8,
   "metadata": {},
   "outputs": [
    {
     "data": {
      "text/plain": [
       "count    1015.000000\n",
       "mean       73.689655\n",
       "std         2.313932\n",
       "min        67.000000\n",
       "25%        72.000000\n",
       "50%        74.000000\n",
       "75%        75.000000\n",
       "max        83.000000\n",
       "Name: Height, dtype: float64"
      ]
     },
     "execution_count": 8,
     "metadata": {},
     "output_type": "execute_result"
    }
   ],
   "source": [
    "baseball_height = baseball['Height']\n",
    "baseball_height.describe()"
   ]
  },
  {
   "cell_type": "markdown",
   "metadata": {},
   "source": [
    "The height observations in the baseball dataset is expressed in inches. However, for this analysis we'll work with the metric system."
   ]
  },
  {
   "cell_type": "code",
   "execution_count": 9,
   "metadata": {},
   "outputs": [
    {
     "data": {
      "text/plain": [
       "count    1015.000000\n",
       "mean      187.171724\n",
       "std         5.877387\n",
       "min       170.180000\n",
       "25%       182.880000\n",
       "50%       187.960000\n",
       "75%       190.500000\n",
       "max       210.820000\n",
       "Name: Height, dtype: float64"
      ]
     },
     "execution_count": 9,
     "metadata": {},
     "output_type": "execute_result"
    }
   ],
   "source": [
    "baseball_height = baseball_height * 2.54\n",
    "baseball_height_stats = baseball_height.describe()\n",
    "baseball_height_stats"
   ]
  },
  {
   "cell_type": "markdown",
   "metadata": {},
   "source": [
    "### 2.2 FIFA data"
   ]
  },
  {
   "cell_type": "code",
   "execution_count": 10,
   "metadata": {},
   "outputs": [
    {
     "data": {
      "text/plain": [
       "count    8847.000000\n",
       "mean      181.750424\n",
       "std         6.454356\n",
       "min       158.000000\n",
       "25%       178.000000\n",
       "50%       182.000000\n",
       "75%       186.000000\n",
       "max       208.000000\n",
       "Name: height, dtype: float64"
      ]
     },
     "execution_count": 10,
     "metadata": {},
     "output_type": "execute_result"
    }
   ],
   "source": [
    "fifa_height = fifa['height']\n",
    "fifa_height_stats = fifa_height.describe()\n",
    "fifa_height_stats"
   ]
  },
  {
   "cell_type": "markdown",
   "metadata": {},
   "source": [
    "The heights are expressed in centimeters so there is no need of further cleaning."
   ]
  },
  {
   "cell_type": "markdown",
   "metadata": {},
   "source": [
    "## 3. Problem: samples of different sizes"
   ]
  },
  {
   "cell_type": "markdown",
   "metadata": {},
   "source": [
    "Looking at the summary statistics for the datasets we can see that the fifa daset has more observations compared to the baseball dataset."
   ]
  },
  {
   "cell_type": "code",
   "execution_count": 11,
   "metadata": {},
   "outputs": [],
   "source": [
    "fifa_size = fifa_height_stats['count']\n",
    "baseball_size = baseball_height_stats['count']"
   ]
  },
  {
   "cell_type": "code",
   "execution_count": 12,
   "metadata": {},
   "outputs": [],
   "source": [
    "observations_difference = fifa_size - baseball_size\n",
    "observations_difference_multiplier = fifa_size / baseball_size"
   ]
  },
  {
   "cell_type": "code",
   "execution_count": 13,
   "metadata": {},
   "outputs": [
    {
     "name": "stdout",
     "output_type": "stream",
     "text": [
      "The fifa dataset has 7,832.0 more observations. This means that it is 8.7 times bigger\n"
     ]
    }
   ],
   "source": [
    "print(f\"The fifa dataset has {observations_difference:,} more observations. This means that it is {observations_difference_multiplier:.1f} times bigger\")"
   ]
  },
  {
   "cell_type": "markdown",
   "metadata": {},
   "source": [
    "The fifa dataset must be downsized in order to compare players across the two leagues. The subset of fifa is going to be created using random sampling technique, this to remove bias from the selection."
   ]
  },
  {
   "cell_type": "code",
   "execution_count": 14,
   "metadata": {},
   "outputs": [],
   "source": [
    "fifa_height = fifa_height.sample(int(baseball_size))\n",
    "fifa_height_stats = fifa_height.describe()\n",
    "assert fifa_height_stats['count'] == baseball_size"
   ]
  },
  {
   "cell_type": "markdown",
   "metadata": {},
   "source": [
    "## 4. Comparing the data"
   ]
  },
  {
   "cell_type": "markdown",
   "metadata": {},
   "source": [
    "The final part of this analysis involves creating a table to compare the variables needed to answer the four questions we set in the beginning."
   ]
  },
  {
   "cell_type": "code",
   "execution_count": 15,
   "metadata": {},
   "outputs": [],
   "source": [
    "target_data = ['mean','std', 'min', 'max']"
   ]
  },
  {
   "cell_type": "code",
   "execution_count": 17,
   "metadata": {},
   "outputs": [
    {
     "data": {
      "text/html": [
       "<div>\n",
       "<style scoped>\n",
       "    .dataframe tbody tr th:only-of-type {\n",
       "        vertical-align: middle;\n",
       "    }\n",
       "\n",
       "    .dataframe tbody tr th {\n",
       "        vertical-align: top;\n",
       "    }\n",
       "\n",
       "    .dataframe thead th {\n",
       "        text-align: right;\n",
       "    }\n",
       "</style>\n",
       "<table border=\"1\" class=\"dataframe\">\n",
       "  <thead>\n",
       "    <tr style=\"text-align: right;\">\n",
       "      <th></th>\n",
       "      <th>MLB</th>\n",
       "      <th>FIFA</th>\n",
       "      <th>Difference</th>\n",
       "    </tr>\n",
       "  </thead>\n",
       "  <tbody>\n",
       "    <tr>\n",
       "      <th>mean</th>\n",
       "      <td>187.171724</td>\n",
       "      <td>181.763547</td>\n",
       "      <td>5.408177</td>\n",
       "    </tr>\n",
       "    <tr>\n",
       "      <th>std</th>\n",
       "      <td>5.877387</td>\n",
       "      <td>6.366150</td>\n",
       "      <td>-0.488762</td>\n",
       "    </tr>\n",
       "    <tr>\n",
       "      <th>min</th>\n",
       "      <td>170.180000</td>\n",
       "      <td>160.000000</td>\n",
       "      <td>10.180000</td>\n",
       "    </tr>\n",
       "    <tr>\n",
       "      <th>max</th>\n",
       "      <td>210.820000</td>\n",
       "      <td>202.000000</td>\n",
       "      <td>8.820000</td>\n",
       "    </tr>\n",
       "  </tbody>\n",
       "</table>\n",
       "</div>"
      ],
      "text/plain": [
       "             MLB        FIFA  Difference\n",
       "mean  187.171724  181.763547    5.408177\n",
       "std     5.877387    6.366150   -0.488762\n",
       "min   170.180000  160.000000   10.180000\n",
       "max   210.820000  202.000000    8.820000"
      ]
     },
     "execution_count": 17,
     "metadata": {},
     "output_type": "execute_result"
    }
   ],
   "source": [
    "comparison_frame = {'MLB': baseball_height_stats[target_data], 'FIFA': fifa_height_stats[target_data]}\n",
    "comparison_frame = pd.DataFrame(comparison_frame)\n",
    "comparison_frame['Difference'] = baseball_height_stats - fifa_height_stats\n",
    "comparison_frame"
   ]
  },
  {
   "cell_type": "markdown",
   "metadata": {},
   "source": [
    "## 5. Conclusion\n",
    "\n",
    "Looking at the table aboe we can reach the following conclusions:\n",
    "\n",
    "1. MLB players are higher on average compared to the FIFA players.\n",
    "2. Looking at the standard deviation we can say that FIFA players have more variance in height compared to the MLB players.\n",
    "\n",
    "*NOTE*: We did take preventive steps during the sampling of FIFA players using a randomized sampling technique. However, there is still a minor chance that results might be different if the FIFA sample would be different."
   ]
  }
 ],
 "metadata": {
  "kernelspec": {
   "display_name": "Python 3",
   "language": "python",
   "name": "python3"
  },
  "language_info": {
   "codemirror_mode": {
    "name": "ipython",
    "version": 3
   },
   "file_extension": ".py",
   "mimetype": "text/x-python",
   "name": "python",
   "nbconvert_exporter": "python",
   "pygments_lexer": "ipython3",
   "version": "3.8.3"
  }
 },
 "nbformat": 4,
 "nbformat_minor": 4
}
