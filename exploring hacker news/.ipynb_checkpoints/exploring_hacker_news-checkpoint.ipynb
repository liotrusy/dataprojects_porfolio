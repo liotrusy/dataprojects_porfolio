{
 "cells": [
  {
   "cell_type": "markdown",
   "metadata": {
    "collapsed": true
   },
   "source": [
    "# Analyzing Hacker News\n",
    "\n",
    "The goal of the project is to explore the hacker_news dataset and capture some insights about:\n",
    "\n",
    "- Engagement (comments on average) across \"Ask HN\" and \"Show HN\"\n",
    "- Most engaged users (based on commeting activity) in both 'Ask HN' and 'Show HN'\n",
    "- Engagement (comments on average) based on post time"
   ]
  },
  {
   "cell_type": "markdown",
   "metadata": {},
   "source": [
    "## 1. Exploring the dataset\n",
    "\n",
    "The dataset used for this project can be found [here](https://www.kaggle.com/hacker-news/hacker-news-posts)."
   ]
  },
  {
   "cell_type": "code",
   "execution_count": 1,
   "metadata": {},
   "outputs": [],
   "source": [
    "from csv import reader\n",
    "\n",
    "f = open(\"hacker_news.csv\", encoding=\"utf-8\")\n",
    "hn_raw = list(reader(f))\n",
    "hn = hn_raw[1:]\n",
    "hn_header = hn_raw[0]"
   ]
  },
  {
   "cell_type": "code",
   "execution_count": 2,
   "metadata": {},
   "outputs": [
    {
     "name": "stdout",
     "output_type": "stream",
     "text": [
      "The dataset has 293,119 rows and 7 columns\n"
     ]
    }
   ],
   "source": [
    "# just in case I need to explore shape of subset of data\n",
    "def explore_dataset_shape(dataset):\n",
    "    rows = len(dataset)\n",
    "    columns = len(dataset[0])\n",
    "    return (rows, columns)\n",
    "\n",
    "hn_shape = explore_dataset_shape(hn)\n",
    "print(f\"The dataset has {hn_shape[0]:,} rows and {hn_shape[1]:,} columns\")"
   ]
  },
  {
   "cell_type": "markdown",
   "metadata": {},
   "source": [
    "### 1.1. Mapping the header"
   ]
  },
  {
   "cell_type": "code",
   "execution_count": 3,
   "metadata": {},
   "outputs": [
    {
     "name": "stdout",
     "output_type": "stream",
     "text": [
      "These are the columns labels of the dataset\n",
      "0 id\n",
      "1 title\n",
      "2 url\n",
      "3 num_points\n",
      "4 num_comments\n",
      "5 author\n",
      "6 created_at\n"
     ]
    }
   ],
   "source": [
    "# useful in case I need a refresher on the label and index\n",
    "def print_header_info():\n",
    "    print(\"These are the columns labels of the dataset\")\n",
    "    for index, column_label in enumerate(hn_header):\n",
    "        print(index, column_label)\n",
    "        \n",
    "print_header_info()"
   ]
  },
  {
   "cell_type": "markdown",
   "metadata": {},
   "source": [
    "### 1.2. Creating the data subset\n",
    "\n",
    "Since, the focus of the analysis is on either the 'Ask HN' or 'Show HN' categories, we isolate these posts from the rest of the dataset.\n",
    "\n",
    "The title of these posts begin with either 'Ask HN' or 'Show HN'. We can use this information to filter out the information."
   ]
  },
  {
   "cell_type": "code",
   "execution_count": 4,
   "metadata": {},
   "outputs": [],
   "source": [
    "ask_posts = []\n",
    "show_posts = []\n",
    "other_posts = []\n",
    "\n",
    "ask = \"ask hn\"\n",
    "show = \"show hn\"\n",
    "\n",
    "for post in hn:\n",
    "    title = post[1].lower()\n",
    "    \n",
    "    if title.startswith(ask):\n",
    "        ask_posts.append(post)\n",
    "    elif title.startswith(show):\n",
    "        show_posts.append(post)\n",
    "        \n",
    "    else:\n",
    "        other_posts.append(post)"
   ]
  },
  {
   "cell_type": "markdown",
   "metadata": {},
   "source": [
    "Now, let's explore the first 3 entries for the ask_posts and show_posts lists."
   ]
  },
  {
   "cell_type": "code",
   "execution_count": 5,
   "metadata": {},
   "outputs": [
    {
     "data": {
      "text/plain": [
       "[['12578908',\n",
       "  'Ask HN: What TLD do you use for local development?',\n",
       "  '',\n",
       "  '4',\n",
       "  '7',\n",
       "  'Sevrene',\n",
       "  '9/26/2016 2:53'],\n",
       " ['12578522',\n",
       "  'Ask HN: How do you pass on your work when you die?',\n",
       "  '',\n",
       "  '6',\n",
       "  '3',\n",
       "  'PascLeRasc',\n",
       "  '9/26/2016 1:17'],\n",
       " ['12577908',\n",
       "  'Ask HN: How a DNS problem can be limited to a geographic region?',\n",
       "  '',\n",
       "  '1',\n",
       "  '0',\n",
       "  'kuon',\n",
       "  '9/25/2016 22:57']]"
      ]
     },
     "execution_count": 5,
     "metadata": {},
     "output_type": "execute_result"
    }
   ],
   "source": [
    "ask_posts[:3]"
   ]
  },
  {
   "cell_type": "code",
   "execution_count": 6,
   "metadata": {},
   "outputs": [
    {
     "data": {
      "text/plain": [
       "[['12578335',\n",
       "  'Show HN: Finding puns computationally',\n",
       "  'http://puns.samueltaylor.org/',\n",
       "  '2',\n",
       "  '0',\n",
       "  'saamm',\n",
       "  '9/26/2016 0:36'],\n",
       " ['12578182',\n",
       "  'Show HN: A simple library for complicated animations',\n",
       "  'https://christinecha.github.io/choreographer-js/',\n",
       "  '1',\n",
       "  '0',\n",
       "  'christinecha',\n",
       "  '9/26/2016 0:01'],\n",
       " ['12578098',\n",
       "  'Show HN: WebGL visualization of DNA sequences',\n",
       "  'http://grondilu.github.io/dna.html',\n",
       "  '1',\n",
       "  '0',\n",
       "  'grondilu',\n",
       "  '9/25/2016 23:44']]"
      ]
     },
     "execution_count": 6,
     "metadata": {},
     "output_type": "execute_result"
    }
   ],
   "source": [
    "show_posts[0:3]"
   ]
  },
  {
   "cell_type": "markdown",
   "metadata": {},
   "source": [
    "By comparing the entries, we can observe the that ask posts *don't have* an associated URL with the post. The data types for the other columns seems to be consistent."
   ]
  },
  {
   "cell_type": "markdown",
   "metadata": {},
   "source": [
    "## 2. Cleaning the data\n",
    "\n",
    "Now, that the data is isolated we can proceed with the cleaning process."
   ]
  },
  {
   "cell_type": "code",
   "execution_count": 7,
   "metadata": {},
   "outputs": [
    {
     "name": "stdout",
     "output_type": "stream",
     "text": [
      "These are the columns labels of the dataset\n",
      "0 id\n",
      "1 title\n",
      "2 url\n",
      "3 num_points\n",
      "4 num_comments\n",
      "5 author\n",
      "6 created_at\n"
     ]
    }
   ],
   "source": [
    "print_header_info()"
   ]
  },
  {
   "cell_type": "markdown",
   "metadata": {},
   "source": [
    "Every datapoint is currently stored as a string. We'll a subset of the data points in the appropriate data type. This to faciliate further analysis."
   ]
  },
  {
   "cell_type": "code",
   "execution_count": 8,
   "metadata": {},
   "outputs": [],
   "source": [
    "import datetime as dt # make the package available globally"
   ]
  },
  {
   "cell_type": "code",
   "execution_count": 9,
   "metadata": {},
   "outputs": [],
   "source": [
    "def converting_data_types(dataset):\n",
    "    for entry in dataset:\n",
    "        post_id = entry[0]\n",
    "        post_points = entry[3]\n",
    "        post_comments = entry[4]\n",
    "    \n",
    "        date_format = \"%m/%d/%Y %H:%M\"\n",
    "        post_date = entry[6]\n",
    "        post_date = dt.datetime.strptime(post_date, date_format)\n",
    "    \n",
    "        entry[0] = int(post_id)\n",
    "        entry[3] = int(post_points)\n",
    "        entry[4] = int(post_comments)\n",
    "        entry[6] = post_date\n",
    "    return dataset"
   ]
  },
  {
   "cell_type": "code",
   "execution_count": 10,
   "metadata": {},
   "outputs": [],
   "source": [
    "ask_posts = converting_data_types(ask_posts)\n",
    "show_posts = converting_data_types(show_posts)"
   ]
  },
  {
   "cell_type": "code",
   "execution_count": 11,
   "metadata": {},
   "outputs": [
    {
     "name": "stdout",
     "output_type": "stream",
     "text": [
      "There are 9,139 ask posts.\n",
      "And, 10,158 show posts.\n"
     ]
    }
   ],
   "source": [
    "print(f\"There are {len(ask_posts):,} ask posts.\")\n",
    "print(f\"And, {len(show_posts):,} show posts.\")"
   ]
  },
  {
   "cell_type": "code",
   "execution_count": 12,
   "metadata": {},
   "outputs": [
    {
     "name": "stdout",
     "output_type": "stream",
     "text": [
      "The difference between ask and show posts is -1019\n"
     ]
    }
   ],
   "source": [
    "difference_ask_show = len(ask_posts) - len(show_posts)\n",
    "print(\"The difference between ask and show posts is {}\".format(difference_ask_show))"
   ]
  },
  {
   "cell_type": "markdown",
   "metadata": {},
   "source": [
    "## 3. Comparing Data"
   ]
  },
  {
   "cell_type": "markdown",
   "metadata": {},
   "source": [
    "### 3.1. Comments between Ask HN and Show HN"
   ]
  },
  {
   "cell_type": "code",
   "execution_count": 13,
   "metadata": {},
   "outputs": [],
   "source": [
    "def average_value(a_list,index): # I assume that the data is in string format\n",
    "    list_length = len(a_list)\n",
    "    total_value = 0\n",
    "    for item in a_list:\n",
    "        total_value += item[index]\n",
    "    average = total_value/list_length\n",
    "    return average"
   ]
  },
  {
   "cell_type": "code",
   "execution_count": 14,
   "metadata": {},
   "outputs": [
    {
     "data": {
      "text/plain": [
       "10.393478498741656"
      ]
     },
     "execution_count": 14,
     "metadata": {},
     "output_type": "execute_result"
    }
   ],
   "source": [
    "average_ask_comments = average_value(ask_posts,4)\n",
    "average_ask_comments"
   ]
  },
  {
   "cell_type": "code",
   "execution_count": 15,
   "metadata": {},
   "outputs": [
    {
     "data": {
      "text/plain": [
       "4.886099625910612"
      ]
     },
     "execution_count": 15,
     "metadata": {},
     "output_type": "execute_result"
    }
   ],
   "source": [
    "average_show_comments = average_value(show_posts,4)\n",
    "average_show_comments"
   ]
  },
  {
   "cell_type": "code",
   "execution_count": 16,
   "metadata": {},
   "outputs": [
    {
     "data": {
      "text/plain": [
       "5.507378872831044"
      ]
     },
     "execution_count": 16,
     "metadata": {},
     "output_type": "execute_result"
    }
   ],
   "source": [
    "# show posts receive more engagements that ask\n",
    "difference_average = average_ask_comments - average_show_comments\n",
    "difference_average"
   ]
  },
  {
   "cell_type": "markdown",
   "metadata": {},
   "source": [
    "**RESULT OF COMMENTS COMPARISON**: On average, the ask posts receive more comments compared to show posts."
   ]
  },
  {
   "cell_type": "markdown",
   "metadata": {},
   "source": [
    "### 3.2. Points between Ask HN and Show HN"
   ]
  },
  {
   "cell_type": "code",
   "execution_count": 17,
   "metadata": {},
   "outputs": [],
   "source": [
    "ask_average_points = average_value(ask_posts,3)\n",
    "show_average_points = average_value(show_posts, 3)"
   ]
  },
  {
   "cell_type": "code",
   "execution_count": 18,
   "metadata": {},
   "outputs": [
    {
     "data": {
      "text/plain": [
       "11.31174089068826"
      ]
     },
     "execution_count": 18,
     "metadata": {},
     "output_type": "execute_result"
    }
   ],
   "source": [
    "ask_average_points"
   ]
  },
  {
   "cell_type": "code",
   "execution_count": 19,
   "metadata": {},
   "outputs": [
    {
     "data": {
      "text/plain": [
       "14.843571569206537"
      ]
     },
     "execution_count": 19,
     "metadata": {},
     "output_type": "execute_result"
    }
   ],
   "source": [
    "show_average_points"
   ]
  },
  {
   "cell_type": "markdown",
   "metadata": {},
   "source": [
    "### 3.3. Most engaged users"
   ]
  },
  {
   "cell_type": "code",
   "execution_count": 20,
   "metadata": {},
   "outputs": [],
   "source": [
    "from operator import itemgetter\n",
    "\n",
    "def most_engaged_user(dataset):\n",
    "    most_engaged_table = {}\n",
    "    for post in dataset:\n",
    "        author = post[5]\n",
    "        if author in most_engaged_table:\n",
    "            most_engaged_table[author] += 1\n",
    "        else:\n",
    "            most_engaged_table[author] = 1\n",
    "            \n",
    "    most_engaged_ranking = most_engaged_table.items()\n",
    "    most_engaged_ranking = sorted(most_engaged_ranking, key=itemgetter(1), reverse=True)\n",
    "    return most_engaged_ranking"
   ]
  },
  {
   "cell_type": "code",
   "execution_count": 21,
   "metadata": {},
   "outputs": [
    {
     "name": "stdout",
     "output_type": "stream",
     "text": [
      "The TOP 10 Most engaged (comments) users in the Ask HN are:\n",
      "1 hoodoof with 70 comments\n",
      "2 tmaly with 48 comments\n",
      "3 tixocloud with 41 comments\n",
      "4 a_lifters_life with 37 comments\n",
      "5 whoishiring with 36 comments\n",
      "6 sharemywin with 31 comments\n",
      "7 philippnagel with 31 comments\n",
      "8 chirau with 27 comments\n",
      "9 rayalez with 26 comments\n",
      "10 baccheion with 23 comments\n"
     ]
    }
   ],
   "source": [
    "ask_most_engaged_user = most_engaged_user(ask_posts)\n",
    "\n",
    "print(\"The TOP 10 Most engaged (comments) users in the Ask HN are:\")\n",
    "for rank, user in enumerate(ask_most_engaged_user[:10], start=1):\n",
    "    print(rank, user[0], f\"with {user[1]} comments\")"
   ]
  },
  {
   "cell_type": "code",
   "execution_count": 22,
   "metadata": {},
   "outputs": [
    {
     "name": "stdout",
     "output_type": "stream",
     "text": [
      "The TOP 10 Most engaged (comments) users in the Ask HN are:\n",
      "1 bdehaaff with 36 comments\n",
      "2 soheil with 33 comments\n",
      "3 brakmic with 30 comments\n",
      "4 fiatjaf with 29 comments\n",
      "5 tonyspiro with 28 comments\n",
      "6 nealmydataorg with 25 comments\n",
      "7 max0563 with 23 comments\n",
      "8 bucaran with 21 comments\n",
      "9 alexellisuk with 20 comments\n",
      "10 afshinmeh with 19 comments\n"
     ]
    }
   ],
   "source": [
    "show_most_engaged_user = most_engaged_user(show_posts)\n",
    "\n",
    "print(\"The TOP 10 Most engaged (comments) users in the Ask HN are:\")\n",
    "for rank, user in enumerate(show_most_engaged_user[:10], start=1):\n",
    "    print(rank, user[0], f\"with {user[1]} comments\")"
   ]
  },
  {
   "cell_type": "markdown",
   "metadata": {},
   "source": [
    "### 3.4. Time with the greatest engagment in the Ask HN dataset (on average)"
   ]
  },
  {
   "cell_type": "markdown",
   "metadata": {},
   "source": [
    "The goal of this part of the analysis is to **find the time with the highest numbers of comments on average**."
   ]
  },
  {
   "cell_type": "code",
   "execution_count": 23,
   "metadata": {},
   "outputs": [
    {
     "name": "stdout",
     "output_type": "stream",
     "text": [
      "These are the columns labels of the dataset\n",
      "0 id\n",
      "1 title\n",
      "2 url\n",
      "3 num_points\n",
      "4 num_comments\n",
      "5 author\n",
      "6 created_at\n"
     ]
    }
   ],
   "source": [
    "print_header_info()"
   ]
  },
  {
   "cell_type": "code",
   "execution_count": 24,
   "metadata": {},
   "outputs": [],
   "source": [
    "hours_dictionary = {}\n",
    "\n",
    "for post in ask_posts:\n",
    "    \n",
    "    comments = post[4]\n",
    "    hour = post[-1]\n",
    "    hour = hour.strftime(\"%H\")\n",
    "    \n",
    "    if hour in hours_dictionary:\n",
    "        hours_dictionary[hour]['counts'] += 1\n",
    "        hours_dictionary[hour]['comments'] += comments\n",
    "    else:\n",
    "        hours_dictionary[hour] = {}\n",
    "        hours_dictionary[hour][\"counts\"] = 1\n",
    "        hours_dictionary[hour][\"comments\"] = comments"
   ]
  },
  {
   "cell_type": "code",
   "execution_count": 25,
   "metadata": {},
   "outputs": [
    {
     "data": {
      "text/plain": [
       "{'02': {'counts': 269, 'comments': 2996, 'average': 11.137546468401487},\n",
       " '01': {'counts': 282, 'comments': 2089, 'average': 7.407801418439717},\n",
       " '22': {'counts': 383, 'comments': 3372, 'average': 8.804177545691905},\n",
       " '21': {'counts': 518, 'comments': 4500, 'average': 8.687258687258687},\n",
       " '19': {'counts': 552, 'comments': 3954, 'average': 7.163043478260869},\n",
       " '17': {'counts': 587, 'comments': 5547, 'average': 9.449744463373083},\n",
       " '15': {'counts': 646, 'comments': 18525, 'average': 28.676470588235293},\n",
       " '14': {'counts': 513, 'comments': 4972, 'average': 9.692007797270955},\n",
       " '13': {'counts': 444, 'comments': 7245, 'average': 16.31756756756757},\n",
       " '11': {'counts': 312, 'comments': 2797, 'average': 8.96474358974359},\n",
       " '10': {'counts': 282, 'comments': 3013, 'average': 10.684397163120567},\n",
       " '09': {'counts': 222, 'comments': 1477, 'average': 6.653153153153153},\n",
       " '07': {'counts': 226, 'comments': 1585, 'average': 7.013274336283186},\n",
       " '03': {'counts': 271, 'comments': 2154, 'average': 7.948339483394834},\n",
       " '23': {'counts': 343, 'comments': 2297, 'average': 6.696793002915452},\n",
       " '20': {'counts': 510, 'comments': 4462, 'average': 8.749019607843136},\n",
       " '16': {'counts': 579, 'comments': 4466, 'average': 7.713298791018998},\n",
       " '08': {'counts': 257, 'comments': 2362, 'average': 9.190661478599221},\n",
       " '00': {'counts': 301, 'comments': 2277, 'average': 7.5647840531561465},\n",
       " '18': {'counts': 614, 'comments': 4877, 'average': 7.94299674267101},\n",
       " '12': {'counts': 342, 'comments': 4234, 'average': 12.380116959064328},\n",
       " '04': {'counts': 243, 'comments': 2360, 'average': 9.7119341563786},\n",
       " '06': {'counts': 234, 'comments': 1587, 'average': 6.782051282051282},\n",
       " '05': {'counts': 209, 'comments': 1838, 'average': 8.794258373205741}}"
      ]
     },
     "execution_count": 25,
     "metadata": {},
     "output_type": "execute_result"
    }
   ],
   "source": [
    "for hour in hours_dictionary:\n",
    "    hours_dictionary[hour]['average'] = hours_dictionary[hour]['comments'] / hours_dictionary[hour]['counts']\n",
    "    \n",
    "hours_dictionary"
   ]
  },
  {
   "cell_type": "code",
   "execution_count": 26,
   "metadata": {},
   "outputs": [],
   "source": [
    "ask_most_engaged_time_ranking = []\n",
    "for hour, details in hours_dictionary.items():\n",
    "    ask_most_engaged_time_ranking.append([hour, details['average']])\n",
    "\n",
    "ranking_avg_by_hour = sorted(ask_most_engaged_time_ranking, key=itemgetter(1), reverse=True)"
   ]
  },
  {
   "cell_type": "code",
   "execution_count": 27,
   "metadata": {},
   "outputs": [
    {
     "name": "stdout",
     "output_type": "stream",
     "text": [
      "TOP 5 Hours For ASK HN Post Comments\n",
      "1. 02:00 with 11.14 average comments per post\n",
      "2. 01:00 with 7.41 average comments per post\n",
      "3. 22:00 with 8.80 average comments per post\n",
      "4. 21:00 with 8.69 average comments per post\n",
      "5. 19:00 with 7.16 average comments per post\n"
     ]
    }
   ],
   "source": [
    "print(\"TOP 5 Hours For ASK HN Post Comments\")\n",
    "\n",
    "for rank, hour_details in enumerate(ask_most_engaged_time_ranking[:5], start=1):\n",
    "    hour = hour_details[0]\n",
    "    avg_comments = hour_details[1]\n",
    "    ranking_message = \"{}. {}:00 with {:.2f} average comments per post\".format(rank,hour,avg_comments)\n",
    "    print(ranking_message)"
   ]
  }
 ],
 "metadata": {
  "kernelspec": {
   "display_name": "Python 3",
   "language": "python",
   "name": "python3"
  },
  "language_info": {
   "codemirror_mode": {
    "name": "ipython",
    "version": 3
   },
   "file_extension": ".py",
   "mimetype": "text/x-python",
   "name": "python",
   "nbconvert_exporter": "python",
   "pygments_lexer": "ipython3",
   "version": "3.8.3"
  }
 },
 "nbformat": 4,
 "nbformat_minor": 2
}
